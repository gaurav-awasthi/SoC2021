{
  "nbformat": 4,
  "nbformat_minor": 0,
  "metadata": {
    "colab": {
      "name": "Age and Gender from Video.ipynb",
      "provenance": [],
      "authorship_tag": "ABX9TyNtnTFeCkHZSbs1HL3PE4Yh",
      "include_colab_link": true
    },
    "kernelspec": {
      "name": "python3",
      "display_name": "Python 3"
    },
    "language_info": {
      "name": "python"
    }
  },
  "cells": [
    {
      "cell_type": "markdown",
      "metadata": {
        "id": "view-in-github",
        "colab_type": "text"
      },
      "source": [
        "<a href=\"https://colab.research.google.com/github/gaurav-awasthi/SoC2021/blob/main/Age_and_Gender_from_Video.ipynb\" target=\"_parent\"><img src=\"https://colab.research.google.com/assets/colab-badge.svg\" alt=\"Open In Colab\"/></a>"
      ]
    },
    {
      "cell_type": "code",
      "metadata": {
        "colab": {
          "base_uri": "https://localhost:8080/"
        },
        "id": "HghWl8obzJLl",
        "outputId": "47bf28e5-f57d-411b-949a-f0eee88263ad"
      },
      "source": [
        "# To install libraries required for loading youtube videos\n",
        "!pip install pafy\n",
        "!pip install youtube-dl"
      ],
      "execution_count": 31,
      "outputs": [
        {
          "output_type": "stream",
          "text": [
            "Requirement already satisfied: pafy in /usr/local/lib/python3.7/dist-packages (0.5.5)\n",
            "Requirement already satisfied: youtube-dl in /usr/local/lib/python3.7/dist-packages (2021.6.6)\n"
          ],
          "name": "stdout"
        }
      ]
    },
    {
      "cell_type": "code",
      "metadata": {
        "id": "HyCUofxHzOfG"
      },
      "source": [
        "import os\n",
        "# folder where pretrained data is present\n",
        "path = '/content/drive/MyDrive/Colab Notebooks/My_Pretrained'\n",
        "\n",
        "# location of output video\n",
        "output_dir = '/content/drive/MyDrive/Colab Notebooks'\n",
        "\n",
        "# pafy is for youtube video processing and time library\n",
        "import cv2\n",
        "import numpy as np\n",
        "import pafy\n",
        "import time\n",
        "\n",
        "# in colab, use cv2_imshow instead of cv2.imshow\n",
        "from google.colab.patches import cv2_imshow"
      ],
      "execution_count": 32,
      "outputs": []
    },
    {
      "cell_type": "code",
      "metadata": {
        "colab": {
          "base_uri": "https://localhost:8080/"
        },
        "id": "XSN_pAeQ0U41",
        "outputId": "f8f228ee-79a0-4c47-c99c-a5701aa00c4c"
      },
      "source": [
        "# Number of seconds the video is run for\n",
        "n = 5\n",
        "\n",
        "# Setting up output video writer\n",
        "fourcc = cv2.VideoWriter_fourcc(*'XVID')\n",
        "w, h = 1280,720\n",
        "fourcc = cv2.VideoWriter_fourcc('m', 'p', '4', 'v')\n",
        "output_fps = 40\n",
        "output_movie = cv2.VideoWriter(os.path.join(output_dir,'output_video.avi'), fourcc, output_fps, (w, h))\n",
        "\n",
        "# URL of the video\n",
        "url = 'https://youtu.be/YCoQwZ9BQ9Q'\n",
        "vPafy = pafy.new(url)\n",
        "play = vPafy.getbest(preftype=\"mp4\")\n",
        "\n",
        "# Capturing youtube video\n",
        "cap = cv2.VideoCapture(play.url)\n",
        "\n",
        "cap.set(3, 480) # width of the frame\n",
        "cap.set(4, 640) # height of the frame\n",
        "\n",
        "# Pretrained model mean values\n",
        "MODEL_MEAN_VALUES = (78.4263377603, 87.7689143744, 114.895847746)\n",
        "\n",
        "# age range has to be same as that of pre-trained model\n",
        "age_list = ['(0, 2)', '(4, 6)', '(8, 12)', '(15, 20)', '(25, 32)', '(38, 43)', '(48, 53)', '(60, 100)']\n",
        "\n",
        "gender_list = ['Male', 'Female']\n",
        "\n",
        "# load models\n",
        "def load_caffe_models():\n",
        " \n",
        "  age_net = cv2.dnn.readNetFromCaffe(os.path.join(path,'deploy_age.prototxt'), os.path.join(path,'age_net.caffemodel'))\n",
        "\n",
        "  gender_net = cv2.dnn.readNetFromCaffe(os.path.join(path,'deploy_gender.prototxt'), os.path.join(path,'gender_net.caffemodel'))\n",
        "\n",
        "  return (age_net, gender_net)\n",
        "\n",
        "# detecting age and gender\n",
        "def video_detector(age_net, gender_net):\n",
        "  # font for text in processed video\n",
        "  font = cv2.FONT_HERSHEY_PLAIN\n",
        "  framecount = 0\n",
        "\n",
        "  # loop should end when FPS*n frames have been run\n",
        "  while framecount < n*output_fps:\n",
        "\n",
        "      ret, image = cap.read()\n",
        "      framecount = framecount+1\n",
        "\n",
        "      face_cascade = cv2.CascadeClassifier(cv2.data.haarcascades + 'haarcascade_frontalface_alt.xml')\n",
        "      eye_cascade = cv2.CascadeClassifier(cv2.data.haarcascades + 'haarcascade_eye.xml')\n",
        "    \n",
        "      gray = cv2.cvtColor(image, cv2.COLOR_BGR2GRAY)\n",
        "\n",
        "      faces = face_cascade.detectMultiScale(gray, 1.1, 5)\n",
        "\n",
        "      for (x, y, w, h) in faces:\n",
        "        cv2.rectangle(image, (x, y), (x+w, y+h), (255, 255, 0), 2)\n",
        "\n",
        "      #face in square \n",
        "        face_img = image[y:y+h, h:h+w].copy()\n",
        "        blob = cv2.dnn.blobFromImage(face_img, 1, (227, 227), MODEL_MEAN_VALUES, swapRB=False)\n",
        "\n",
        "      # predicting gender\n",
        "        gender_net.setInput(blob)\n",
        "        gender_preds = gender_net.forward()\n",
        "        gender = gender_list[gender_preds[0].argmax()]\n",
        "        #print(\"Gender : \" + gender)\n",
        "\n",
        "      # perdicting age\n",
        "        age_net.setInput(blob)\n",
        "        age_preds = age_net.forward()\n",
        "        age = age_list[age_preds[0].argmax()]\n",
        "        #print(\"Age Range: \" + age)\n",
        "\n",
        "        overlay_text = \"%s %s\" % (gender, age)\n",
        "        cv2.putText(image, overlay_text, (x, y), font, 1, (255, 255, 255), 2, cv2.LINE_AA)\n",
        "      output_movie.write(image)\n",
        "  output_movie.release()\n",
        "  print(framecount)\n",
        "\n",
        "\n",
        "age_net, gender_net = load_caffe_models()\n",
        "\n",
        "video_detector(age_net, gender_net)"
      ],
      "execution_count": 34,
      "outputs": [
        {
          "output_type": "stream",
          "text": [
            "200\n"
          ],
          "name": "stdout"
        }
      ]
    },
    {
      "cell_type": "code",
      "metadata": {
        "id": "CXcych5R3Vw4"
      },
      "source": [
        " "
      ],
      "execution_count": 33,
      "outputs": []
    }
  ]
}
